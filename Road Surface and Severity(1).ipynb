{
 "cells": [
  {
   "cell_type": "code",
   "execution_count": 295,
   "metadata": {},
   "outputs": [],
   "source": [
    " # IMPORT STATEMENTS\n",
    "import pandas as pd\n",
    "import matplotlib.pyplot as plt\n",
    "import numpy as np\n",
    "import seaborn as sns\n",
    "import matplotlib as mpl"
   ]
  },
  {
   "cell_type": "code",
   "execution_count": 308,
   "metadata": {},
   "outputs": [
    {
     "data": {
      "text/html": [
       "<div>\n",
       "<style scoped>\n",
       "    .dataframe tbody tr th:only-of-type {\n",
       "        vertical-align: middle;\n",
       "    }\n",
       "\n",
       "    .dataframe tbody tr th {\n",
       "        vertical-align: top;\n",
       "    }\n",
       "\n",
       "    .dataframe thead th {\n",
       "        text-align: right;\n",
       "    }\n",
       "</style>\n",
       "<table border=\"1\" class=\"dataframe\">\n",
       "  <thead>\n",
       "    <tr style=\"text-align: right;\">\n",
       "      <th></th>\n",
       "      <th>Accident_Severity</th>\n",
       "      <th>Road_Surface_Conditions</th>\n",
       "    </tr>\n",
       "    <tr>\n",
       "      <th>Accident_Index</th>\n",
       "      <th></th>\n",
       "      <th></th>\n",
       "    </tr>\n",
       "  </thead>\n",
       "  <tbody>\n",
       "    <tr>\n",
       "      <td>2018010080971</td>\n",
       "      <td>3</td>\n",
       "      <td>1.0</td>\n",
       "    </tr>\n",
       "    <tr>\n",
       "      <td>2018010080973</td>\n",
       "      <td>3</td>\n",
       "      <td>1.0</td>\n",
       "    </tr>\n",
       "    <tr>\n",
       "      <td>2018010080974</td>\n",
       "      <td>3</td>\n",
       "      <td>1.0</td>\n",
       "    </tr>\n",
       "    <tr>\n",
       "      <td>2018010080981</td>\n",
       "      <td>2</td>\n",
       "      <td>2.0</td>\n",
       "    </tr>\n",
       "    <tr>\n",
       "      <td>2018010080982</td>\n",
       "      <td>2</td>\n",
       "      <td>2.0</td>\n",
       "    </tr>\n",
       "    <tr>\n",
       "      <td>...</td>\n",
       "      <td>...</td>\n",
       "      <td>...</td>\n",
       "    </tr>\n",
       "    <tr>\n",
       "      <td>2018984115718</td>\n",
       "      <td>3</td>\n",
       "      <td>2.0</td>\n",
       "    </tr>\n",
       "    <tr>\n",
       "      <td>2018984115918</td>\n",
       "      <td>3</td>\n",
       "      <td>1.0</td>\n",
       "    </tr>\n",
       "    <tr>\n",
       "      <td>2018984116018</td>\n",
       "      <td>3</td>\n",
       "      <td>2.0</td>\n",
       "    </tr>\n",
       "    <tr>\n",
       "      <td>2018984116318</td>\n",
       "      <td>2</td>\n",
       "      <td>4.0</td>\n",
       "    </tr>\n",
       "    <tr>\n",
       "      <td>2018984116418</td>\n",
       "      <td>3</td>\n",
       "      <td>1.0</td>\n",
       "    </tr>\n",
       "  </tbody>\n",
       "</table>\n",
       "<p>122635 rows × 2 columns</p>\n",
       "</div>"
      ],
      "text/plain": [
       "                Accident_Severity  Road_Surface_Conditions\n",
       "Accident_Index                                            \n",
       "2018010080971                   3                      1.0\n",
       "2018010080973                   3                      1.0\n",
       "2018010080974                   3                      1.0\n",
       "2018010080981                   2                      2.0\n",
       "2018010080982                   2                      2.0\n",
       "...                           ...                      ...\n",
       "2018984115718                   3                      2.0\n",
       "2018984115918                   3                      1.0\n",
       "2018984116018                   3                      2.0\n",
       "2018984116318                   2                      4.0\n",
       "2018984116418                   3                      1.0\n",
       "\n",
       "[122635 rows x 2 columns]"
      ]
     },
     "execution_count": 308,
     "metadata": {},
     "output_type": "execute_result"
    }
   ],
   "source": [
    "#LOAD THE CSV FILE & USE THE COLOUMN'S 0,6,26\n",
    "df = pd.read_csv('../data/dftRoadSafetyData_Accidents_2018.csv',usecols=[0,6,26],index_col=0,na_values='-1')\n",
    "df"
   ]
  },
  {
   "cell_type": "code",
   "execution_count": 297,
   "metadata": {},
   "outputs": [
    {
     "data": {
      "text/html": [
       "<div>\n",
       "<style scoped>\n",
       "    .dataframe tbody tr th:only-of-type {\n",
       "        vertical-align: middle;\n",
       "    }\n",
       "\n",
       "    .dataframe tbody tr th {\n",
       "        vertical-align: top;\n",
       "    }\n",
       "\n",
       "    .dataframe thead th {\n",
       "        text-align: right;\n",
       "    }\n",
       "</style>\n",
       "<table border=\"1\" class=\"dataframe\">\n",
       "  <thead>\n",
       "    <tr style=\"text-align: right;\">\n",
       "      <th></th>\n",
       "      <th>Accident_Severity</th>\n",
       "      <th>Road_Surface_Conditions</th>\n",
       "    </tr>\n",
       "    <tr>\n",
       "      <th>Accident_Index</th>\n",
       "      <th></th>\n",
       "      <th></th>\n",
       "    </tr>\n",
       "  </thead>\n",
       "  <tbody>\n",
       "    <tr>\n",
       "      <td>2018010080971</td>\n",
       "      <td>3</td>\n",
       "      <td>1.0</td>\n",
       "    </tr>\n",
       "    <tr>\n",
       "      <td>2018010080973</td>\n",
       "      <td>3</td>\n",
       "      <td>1.0</td>\n",
       "    </tr>\n",
       "    <tr>\n",
       "      <td>2018010080974</td>\n",
       "      <td>3</td>\n",
       "      <td>1.0</td>\n",
       "    </tr>\n",
       "    <tr>\n",
       "      <td>2018010080981</td>\n",
       "      <td>2</td>\n",
       "      <td>2.0</td>\n",
       "    </tr>\n",
       "    <tr>\n",
       "      <td>2018010080982</td>\n",
       "      <td>2</td>\n",
       "      <td>2.0</td>\n",
       "    </tr>\n",
       "    <tr>\n",
       "      <td>...</td>\n",
       "      <td>...</td>\n",
       "      <td>...</td>\n",
       "    </tr>\n",
       "    <tr>\n",
       "      <td>2018984115718</td>\n",
       "      <td>3</td>\n",
       "      <td>2.0</td>\n",
       "    </tr>\n",
       "    <tr>\n",
       "      <td>2018984115918</td>\n",
       "      <td>3</td>\n",
       "      <td>1.0</td>\n",
       "    </tr>\n",
       "    <tr>\n",
       "      <td>2018984116018</td>\n",
       "      <td>3</td>\n",
       "      <td>2.0</td>\n",
       "    </tr>\n",
       "    <tr>\n",
       "      <td>2018984116318</td>\n",
       "      <td>2</td>\n",
       "      <td>4.0</td>\n",
       "    </tr>\n",
       "    <tr>\n",
       "      <td>2018984116418</td>\n",
       "      <td>3</td>\n",
       "      <td>1.0</td>\n",
       "    </tr>\n",
       "  </tbody>\n",
       "</table>\n",
       "<p>121412 rows × 2 columns</p>\n",
       "</div>"
      ],
      "text/plain": [
       "                Accident_Severity  Road_Surface_Conditions\n",
       "Accident_Index                                            \n",
       "2018010080971                   3                      1.0\n",
       "2018010080973                   3                      1.0\n",
       "2018010080974                   3                      1.0\n",
       "2018010080981                   2                      2.0\n",
       "2018010080982                   2                      2.0\n",
       "...                           ...                      ...\n",
       "2018984115718                   3                      2.0\n",
       "2018984115918                   3                      1.0\n",
       "2018984116018                   3                      2.0\n",
       "2018984116318                   2                      4.0\n",
       "2018984116418                   3                      1.0\n",
       "\n",
       "[121412 rows x 2 columns]"
      ]
     },
     "execution_count": 297,
     "metadata": {},
     "output_type": "execute_result"
    }
   ],
   "source": [
    "#Drop the 'na' or missing values\n",
    "df.dropna(inplace=True)\n",
    "#print the dataframe\n",
    "df"
   ]
  },
  {
   "cell_type": "code",
   "execution_count": 299,
   "metadata": {},
   "outputs": [
    {
     "data": {
      "text/plain": [
       "Severe     category\n",
       "Surface    category\n",
       "dtype: object"
      ]
     },
     "execution_count": 299,
     "metadata": {},
     "output_type": "execute_result"
    }
   ],
   "source": [
    "#Name the columns, to make it easier to reference later on\n",
    "df.columns = ['Severe','Surface']\n",
    "#Set the type as categorical\n",
    "df['Severe'] = df['Severe'].astype('category')\n",
    "df['Surface'] = df['Surface'].astype('category')\n",
    "#print the type\n",
    "df.dtypes"
   ]
  },
  {
   "cell_type": "code",
   "execution_count": 300,
   "metadata": {},
   "outputs": [
    {
     "data": {
      "text/html": [
       "<div>\n",
       "<style scoped>\n",
       "    .dataframe tbody tr th:only-of-type {\n",
       "        vertical-align: middle;\n",
       "    }\n",
       "\n",
       "    .dataframe tbody tr th {\n",
       "        vertical-align: top;\n",
       "    }\n",
       "\n",
       "    .dataframe thead th {\n",
       "        text-align: right;\n",
       "    }\n",
       "</style>\n",
       "<table border=\"1\" class=\"dataframe\">\n",
       "  <thead>\n",
       "    <tr style=\"text-align: right;\">\n",
       "      <th></th>\n",
       "      <th>Severe</th>\n",
       "      <th>Surface</th>\n",
       "    </tr>\n",
       "    <tr>\n",
       "      <th>Accident_Index</th>\n",
       "      <th></th>\n",
       "      <th></th>\n",
       "    </tr>\n",
       "  </thead>\n",
       "  <tbody>\n",
       "    <tr>\n",
       "      <td>2018010080971</td>\n",
       "      <td>Slight</td>\n",
       "      <td>Dry</td>\n",
       "    </tr>\n",
       "    <tr>\n",
       "      <td>2018010080973</td>\n",
       "      <td>Slight</td>\n",
       "      <td>Dry</td>\n",
       "    </tr>\n",
       "    <tr>\n",
       "      <td>2018010080974</td>\n",
       "      <td>Slight</td>\n",
       "      <td>Dry</td>\n",
       "    </tr>\n",
       "    <tr>\n",
       "      <td>2018010080981</td>\n",
       "      <td>Serious</td>\n",
       "      <td>Wet or damp</td>\n",
       "    </tr>\n",
       "    <tr>\n",
       "      <td>2018010080982</td>\n",
       "      <td>Serious</td>\n",
       "      <td>Wet or damp</td>\n",
       "    </tr>\n",
       "    <tr>\n",
       "      <td>...</td>\n",
       "      <td>...</td>\n",
       "      <td>...</td>\n",
       "    </tr>\n",
       "    <tr>\n",
       "      <td>2018984115718</td>\n",
       "      <td>Slight</td>\n",
       "      <td>Wet or damp</td>\n",
       "    </tr>\n",
       "    <tr>\n",
       "      <td>2018984115918</td>\n",
       "      <td>Slight</td>\n",
       "      <td>Dry</td>\n",
       "    </tr>\n",
       "    <tr>\n",
       "      <td>2018984116018</td>\n",
       "      <td>Slight</td>\n",
       "      <td>Wet or damp</td>\n",
       "    </tr>\n",
       "    <tr>\n",
       "      <td>2018984116318</td>\n",
       "      <td>Serious</td>\n",
       "      <td>Frost or ice</td>\n",
       "    </tr>\n",
       "    <tr>\n",
       "      <td>2018984116418</td>\n",
       "      <td>Slight</td>\n",
       "      <td>Dry</td>\n",
       "    </tr>\n",
       "  </tbody>\n",
       "</table>\n",
       "<p>121412 rows × 2 columns</p>\n",
       "</div>"
      ],
      "text/plain": [
       "                 Severe       Surface\n",
       "Accident_Index                       \n",
       "2018010080971    Slight           Dry\n",
       "2018010080973    Slight           Dry\n",
       "2018010080974    Slight           Dry\n",
       "2018010080981   Serious   Wet or damp\n",
       "2018010080982   Serious   Wet or damp\n",
       "...                 ...           ...\n",
       "2018984115718    Slight   Wet or damp\n",
       "2018984115918    Slight           Dry\n",
       "2018984116018    Slight   Wet or damp\n",
       "2018984116318   Serious  Frost or ice\n",
       "2018984116418    Slight           Dry\n",
       "\n",
       "[121412 rows x 2 columns]"
      ]
     },
     "execution_count": 300,
     "metadata": {},
     "output_type": "execute_result"
    }
   ],
   "source": [
    "#rename the road surface and severity categories using the legend in the dataset as they were both labelled with integers. \n",
    "s_group = ['Dry', \n",
    "           'Wet or damp', \n",
    "           'Snow',\n",
    "           'Frost or ice',\n",
    "           'Flood over 3cm. deep'\n",
    "          ]\n",
    "#cat.rename_categories to rename categories\n",
    "df['Severe'] = df['Severe'].cat.rename_categories(['Fatal', 'Serious', 'Slight'])\n",
    "df['Surface'] = df['Surface'].cat.rename_categories(s_group)\n",
    "df"
   ]
  },
  {
   "cell_type": "code",
   "execution_count": 301,
   "metadata": {},
   "outputs": [
    {
     "data": {
      "text/html": [
       "<div>\n",
       "<style scoped>\n",
       "    .dataframe tbody tr th:only-of-type {\n",
       "        vertical-align: middle;\n",
       "    }\n",
       "\n",
       "    .dataframe tbody tr th {\n",
       "        vertical-align: top;\n",
       "    }\n",
       "\n",
       "    .dataframe thead th {\n",
       "        text-align: right;\n",
       "    }\n",
       "</style>\n",
       "<table border=\"1\" class=\"dataframe\">\n",
       "  <thead>\n",
       "    <tr style=\"text-align: right;\">\n",
       "      <th></th>\n",
       "      <th>Severe</th>\n",
       "      <th>Surface</th>\n",
       "    </tr>\n",
       "    <tr>\n",
       "      <th>Accident_Index</th>\n",
       "      <th></th>\n",
       "      <th></th>\n",
       "    </tr>\n",
       "  </thead>\n",
       "  <tbody>\n",
       "    <tr>\n",
       "      <td>2018010080971</td>\n",
       "      <td>Slight</td>\n",
       "      <td>Dry</td>\n",
       "    </tr>\n",
       "    <tr>\n",
       "      <td>2018010080973</td>\n",
       "      <td>Slight</td>\n",
       "      <td>Dry</td>\n",
       "    </tr>\n",
       "    <tr>\n",
       "      <td>2018010080974</td>\n",
       "      <td>Slight</td>\n",
       "      <td>Dry</td>\n",
       "    </tr>\n",
       "    <tr>\n",
       "      <td>2018010080981</td>\n",
       "      <td>Serious</td>\n",
       "      <td>Wet or damp</td>\n",
       "    </tr>\n",
       "    <tr>\n",
       "      <td>2018010080982</td>\n",
       "      <td>Serious</td>\n",
       "      <td>Wet or damp</td>\n",
       "    </tr>\n",
       "    <tr>\n",
       "      <td>...</td>\n",
       "      <td>...</td>\n",
       "      <td>...</td>\n",
       "    </tr>\n",
       "    <tr>\n",
       "      <td>2018984115718</td>\n",
       "      <td>Slight</td>\n",
       "      <td>Wet or damp</td>\n",
       "    </tr>\n",
       "    <tr>\n",
       "      <td>2018984115918</td>\n",
       "      <td>Slight</td>\n",
       "      <td>Dry</td>\n",
       "    </tr>\n",
       "    <tr>\n",
       "      <td>2018984116018</td>\n",
       "      <td>Slight</td>\n",
       "      <td>Wet or damp</td>\n",
       "    </tr>\n",
       "    <tr>\n",
       "      <td>2018984116318</td>\n",
       "      <td>Serious</td>\n",
       "      <td>Frost or ice</td>\n",
       "    </tr>\n",
       "    <tr>\n",
       "      <td>2018984116418</td>\n",
       "      <td>Slight</td>\n",
       "      <td>Dry</td>\n",
       "    </tr>\n",
       "  </tbody>\n",
       "</table>\n",
       "<p>121412 rows × 2 columns</p>\n",
       "</div>"
      ],
      "text/plain": [
       "                 Severe       Surface\n",
       "Accident_Index                       \n",
       "2018010080971    Slight           Dry\n",
       "2018010080973    Slight           Dry\n",
       "2018010080974    Slight           Dry\n",
       "2018010080981   Serious   Wet or damp\n",
       "2018010080982   Serious   Wet or damp\n",
       "...                 ...           ...\n",
       "2018984115718    Slight   Wet or damp\n",
       "2018984115918    Slight           Dry\n",
       "2018984116018    Slight   Wet or damp\n",
       "2018984116318   Serious  Frost or ice\n",
       "2018984116418    Slight           Dry\n",
       "\n",
       "[121412 rows x 2 columns]"
      ]
     },
     "execution_count": 301,
     "metadata": {},
     "output_type": "execute_result"
    }
   ],
   "source": [
    "#Set the Accident severity category as ordinal and set the order\n",
    "sev = {\n",
    "    'Fatal',\n",
    "    'Serious',\n",
    "    'Slight',\n",
    "}\n",
    "df['Severe'] = df['Severe'].astype(\n",
    "    pd.CategoricalDtype(ordered=True, \n",
    "                        categories=sev))\n",
    "df"
   ]
  },
  {
   "cell_type": "code",
   "execution_count": 302,
   "metadata": {},
   "outputs": [
    {
     "data": {
      "text/plain": [
       "Dry                     90546\n",
       "Wet or damp             28215\n",
       "Frost or ice             1417\n",
       "Snow                     1099\n",
       "Flood over 3cm. deep      135\n",
       "Name: Surface, dtype: int64"
      ]
     },
     "execution_count": 302,
     "metadata": {},
     "output_type": "execute_result"
    }
   ],
   "source": [
    "#Count the total number categories\n",
    "counts = df['Surface'].value_counts()\n",
    "counts"
   ]
  },
  {
   "cell_type": "code",
   "execution_count": 307,
   "metadata": {},
   "outputs": [
    {
     "data": {
      "image/png": "[encoded data removed]",
      "text/plain": [
       "<Figure size 432x288 with 1 Axes>"
      ]
     },
     "metadata": {
      "needs_background": "light"
     },
     "output_type": "display_data"
    }
   ],
   "source": [
    "#Visualise the frequent road surface accidents by plotting a barchart of the above counts\n",
    "ax = counts.plot.barh(color='r')\n",
    "ax.set_title('Frequent Road Surface Accidents') \n",
    "ax.set_ylabel('Surface')\n",
    "ax.set_xlabel('Frequency')\n",
    "ax.xaxis.set_major_formatter(\n",
    "mpl.ticker.EngFormatter(places=0))\n",
    "plt.savefig(\"Road-Surface.png\", dpi=300, bbox_inches='tight')\n",
    "plt.show()"
   ]
  },
  {
   "cell_type": "code",
   "execution_count": 305,
   "metadata": {},
   "outputs": [
    {
     "data": {
      "text/html": [
       "<div>\n",
       "<style scoped>\n",
       "    .dataframe tbody tr th:only-of-type {\n",
       "        vertical-align: middle;\n",
       "    }\n",
       "\n",
       "    .dataframe tbody tr th {\n",
       "        vertical-align: top;\n",
       "    }\n",
       "\n",
       "    .dataframe thead th {\n",
       "        text-align: right;\n",
       "    }\n",
       "</style>\n",
       "<table border=\"1\" class=\"dataframe\">\n",
       "  <thead>\n",
       "    <tr style=\"text-align: right;\">\n",
       "      <th>Severe</th>\n",
       "      <th>Fatal</th>\n",
       "    </tr>\n",
       "    <tr>\n",
       "      <th>Surface</th>\n",
       "      <th></th>\n",
       "    </tr>\n",
       "  </thead>\n",
       "  <tbody>\n",
       "    <tr>\n",
       "      <td>Wet or damp</td>\n",
       "      <td>1.601985</td>\n",
       "    </tr>\n",
       "    <tr>\n",
       "      <td>Flood over 3cm. deep</td>\n",
       "      <td>1.481481</td>\n",
       "    </tr>\n",
       "    <tr>\n",
       "      <td>Dry</td>\n",
       "      <td>1.323084</td>\n",
       "    </tr>\n",
       "    <tr>\n",
       "      <td>Frost or ice</td>\n",
       "      <td>0.846860</td>\n",
       "    </tr>\n",
       "    <tr>\n",
       "      <td>Snow</td>\n",
       "      <td>0.636943</td>\n",
       "    </tr>\n",
       "  </tbody>\n",
       "</table>\n",
       "</div>"
      ],
      "text/plain": [
       "Severe                   Fatal\n",
       "Surface                       \n",
       "Wet or damp           1.601985\n",
       "Flood over 3cm. deep  1.481481\n",
       "Dry                   1.323084\n",
       "Frost or ice          0.846860\n",
       "Snow                  0.636943"
      ]
     },
     "execution_count": 305,
     "metadata": {},
     "output_type": "execute_result"
    }
   ],
   "source": [
    "#Make a table crosstabulating the road surface and severity of accidents, normalize=ing by index and multiplying by 100\n",
    "pc = pd.crosstab(df['Surface'], df['Severe'], normalize='index')\n",
    "pc.drop('Serious', axis='columns', inplace=True)\n",
    "pc.drop('Slight', axis='columns', inplace=True)\n",
    "pc = pc * 100\n",
    "pc = pc.sort_values(by='Fatal', ascending=False)\n",
    "pc"
   ]
  },
  {
   "cell_type": "code",
   "execution_count": 284,
   "metadata": {},
   "outputs": [
    {
     "data": {
      "image/png": "[encoded data removed]",
      "text/plain": [
       "<Figure size 432x288 with 2 Axes>"
      ]
     },
     "metadata": {
      "needs_background": "light"
     },
     "output_type": "display_data"
    }
   ],
   "source": [
    "#Attempt to do a heatmap\n",
    "ax = sns.heatmap(pc, annot=True,linewidths=.5) \n",
    "ax.invert_yaxis()\n",
    "#ax.set_ylim(0, 5) # Needed for bug in mpl 3.1.1. \n",
    "ax.set_title(\"Road Surface impact on how Severe the Accident is\")\n",
    "plt.savefig(\"Road-Surface-Heatmap.png\", dpi=300, bbox_inches='tight')\n",
    "plt.show()"
   ]
  },
  {
   "cell_type": "code",
   "execution_count": 306,
   "metadata": {},
   "outputs": [
    {
     "data": {
      "text/plain": [
       "<matplotlib.legend.Legend at 0x7f6f8ec1b748>"
      ]
     },
     "execution_count": 306,
     "metadata": {},
     "output_type": "execute_result"
    },
    {
     "data": {
      "image/png": "[encoded data removed]",
      "text/plain": [
       "<Figure size 432x576 with 1 Axes>"
      ]
     },
     "metadata": {
      "needs_background": "light"
     },
     "output_type": "display_data"
    }
   ],
   "source": [
    "#Make a bar chart visualizing the 'pc' table above \n",
    "ax = pc.plot.barh(figsize=(6,8), color='maroon')\n",
    "ax.invert_yaxis()\n",
    "ax.set_title(\"Road Surface impact on how Fatal the Accident was\")\n",
    "ax.set_ylabel('Road Surface')\n",
    "ax.set_xlabel('%')\n",
    "handles, labels = ax.get_legend_handles_labels()\n",
    "ax.legend((handles), (labels),\n",
    "bbox_to_anchor=(1.0, 1.0),)\n",
    "plt.savefig(\"Road&Severity.png\", dpi=300, bbox_inches='tight')"
   ]
  }
 ],
 "metadata": {
  "kernelspec": {
   "display_name": "Python 3.6",
   "language": "python",
   "name": "python36"
  },
  "language_info": {
   "codemirror_mode": {
    "name": "ipython",
    "version": 3
   },
   "file_extension": ".py",
   "mimetype": "text/x-python",
   "name": "python",
   "nbconvert_exporter": "python",
   "pygments_lexer": "ipython3",
   "version": "3.6.3"
  }
 },
 "nbformat": 4,
 "nbformat_minor": 2
}

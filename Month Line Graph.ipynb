{
 "cells": [
  {
   "cell_type": "code",
   "execution_count": 7,
   "metadata": {},
   "outputs": [],
   "source": [
    " # IMPORT STATEMENTS\n",
    "import pandas as pd\n",
    "import matplotlib.pyplot as plt\n",
    "import numpy as np\n",
    "from pandas import DataFrame\n",
    "import matplotlib as mpl"
   ]
  },
  {
   "cell_type": "code",
   "execution_count": 8,
   "metadata": {},
   "outputs": [
    {
     "data": {
      "text/html": [
       "<div>\n",
       "<style scoped>\n",
       "    .dataframe tbody tr th:only-of-type {\n",
       "        vertical-align: middle;\n",
       "    }\n",
       "\n",
       "    .dataframe tbody tr th {\n",
       "        vertical-align: top;\n",
       "    }\n",
       "\n",
       "    .dataframe thead th {\n",
       "        text-align: right;\n",
       "    }\n",
       "</style>\n",
       "<table border=\"1\" class=\"dataframe\">\n",
       "  <thead>\n",
       "    <tr style=\"text-align: right;\">\n",
       "      <th></th>\n",
       "      <th>Date</th>\n",
       "      <th>Time</th>\n",
       "    </tr>\n",
       "    <tr>\n",
       "      <th>Accident_Index</th>\n",
       "      <th></th>\n",
       "      <th></th>\n",
       "    </tr>\n",
       "  </thead>\n",
       "  <tbody>\n",
       "    <tr>\n",
       "      <td>2018010080971</td>\n",
       "      <td>01/01/2018</td>\n",
       "      <td>01:30</td>\n",
       "    </tr>\n",
       "    <tr>\n",
       "      <td>2018010080973</td>\n",
       "      <td>01/01/2018</td>\n",
       "      <td>00:50</td>\n",
       "    </tr>\n",
       "    <tr>\n",
       "      <td>2018010080974</td>\n",
       "      <td>01/01/2018</td>\n",
       "      <td>00:45</td>\n",
       "    </tr>\n",
       "    <tr>\n",
       "      <td>2018010080981</td>\n",
       "      <td>01/01/2018</td>\n",
       "      <td>03:00</td>\n",
       "    </tr>\n",
       "    <tr>\n",
       "      <td>2018010080982</td>\n",
       "      <td>01/01/2018</td>\n",
       "      <td>02:20</td>\n",
       "    </tr>\n",
       "    <tr>\n",
       "      <td>...</td>\n",
       "      <td>...</td>\n",
       "      <td>...</td>\n",
       "    </tr>\n",
       "    <tr>\n",
       "      <td>2018984115718</td>\n",
       "      <td>23/12/2018</td>\n",
       "      <td>13:45</td>\n",
       "    </tr>\n",
       "    <tr>\n",
       "      <td>2018984115918</td>\n",
       "      <td>24/12/2018</td>\n",
       "      <td>10:45</td>\n",
       "    </tr>\n",
       "    <tr>\n",
       "      <td>2018984116018</td>\n",
       "      <td>20/12/2018</td>\n",
       "      <td>18:00</td>\n",
       "    </tr>\n",
       "    <tr>\n",
       "      <td>2018984116318</td>\n",
       "      <td>24/12/2018</td>\n",
       "      <td>11:50</td>\n",
       "    </tr>\n",
       "    <tr>\n",
       "      <td>2018984116418</td>\n",
       "      <td>31/12/2018</td>\n",
       "      <td>07:10</td>\n",
       "    </tr>\n",
       "  </tbody>\n",
       "</table>\n",
       "<p>122635 rows × 2 columns</p>\n",
       "</div>"
      ],
      "text/plain": [
       "                      Date   Time\n",
       "Accident_Index                   \n",
       "2018010080971   01/01/2018  01:30\n",
       "2018010080973   01/01/2018  00:50\n",
       "2018010080974   01/01/2018  00:45\n",
       "2018010080981   01/01/2018  03:00\n",
       "2018010080982   01/01/2018  02:20\n",
       "...                    ...    ...\n",
       "2018984115718   23/12/2018  13:45\n",
       "2018984115918   24/12/2018  10:45\n",
       "2018984116018   20/12/2018  18:00\n",
       "2018984116318   24/12/2018  11:50\n",
       "2018984116418   31/12/2018  07:10\n",
       "\n",
       "[122635 rows x 2 columns]"
      ]
     },
     "execution_count": 8,
     "metadata": {},
     "output_type": "execute_result"
    }
   ],
   "source": [
    "#LOAD THE CSV FILE & USE THE COLOUMN'S 0, 9, 11\n",
    "df = pd.read_csv('../data/dftRoadSafetyData_Accidents_2018.csv',usecols=[0,9,11],index_col=0,low_memory=False)\n",
    "df"
   ]
  },
  {
   "cell_type": "code",
   "execution_count": 9,
   "metadata": {},
   "outputs": [
    {
     "data": {
      "text/html": [
       "<div>\n",
       "<style scoped>\n",
       "    .dataframe tbody tr th:only-of-type {\n",
       "        vertical-align: middle;\n",
       "    }\n",
       "\n",
       "    .dataframe tbody tr th {\n",
       "        vertical-align: top;\n",
       "    }\n",
       "\n",
       "    .dataframe thead th {\n",
       "        text-align: right;\n",
       "    }\n",
       "</style>\n",
       "<table border=\"1\" class=\"dataframe\">\n",
       "  <thead>\n",
       "    <tr style=\"text-align: right;\">\n",
       "      <th></th>\n",
       "      <th>Date</th>\n",
       "      <th>Time</th>\n",
       "    </tr>\n",
       "    <tr>\n",
       "      <th>Accident_Index</th>\n",
       "      <th></th>\n",
       "      <th></th>\n",
       "    </tr>\n",
       "  </thead>\n",
       "  <tbody>\n",
       "    <tr>\n",
       "      <td>2018010080971</td>\n",
       "      <td>01/01/2018</td>\n",
       "      <td>01/01/2018 01:30</td>\n",
       "    </tr>\n",
       "    <tr>\n",
       "      <td>2018010080973</td>\n",
       "      <td>01/01/2018</td>\n",
       "      <td>01/01/2018 00:50</td>\n",
       "    </tr>\n",
       "    <tr>\n",
       "      <td>2018010080974</td>\n",
       "      <td>01/01/2018</td>\n",
       "      <td>01/01/2018 00:45</td>\n",
       "    </tr>\n",
       "    <tr>\n",
       "      <td>2018010080981</td>\n",
       "      <td>01/01/2018</td>\n",
       "      <td>01/01/2018 03:00</td>\n",
       "    </tr>\n",
       "    <tr>\n",
       "      <td>2018010080982</td>\n",
       "      <td>01/01/2018</td>\n",
       "      <td>01/01/2018 02:20</td>\n",
       "    </tr>\n",
       "    <tr>\n",
       "      <td>...</td>\n",
       "      <td>...</td>\n",
       "      <td>...</td>\n",
       "    </tr>\n",
       "    <tr>\n",
       "      <td>2018984115718</td>\n",
       "      <td>23/12/2018</td>\n",
       "      <td>23/12/2018 13:45</td>\n",
       "    </tr>\n",
       "    <tr>\n",
       "      <td>2018984115918</td>\n",
       "      <td>24/12/2018</td>\n",
       "      <td>24/12/2018 10:45</td>\n",
       "    </tr>\n",
       "    <tr>\n",
       "      <td>2018984116018</td>\n",
       "      <td>20/12/2018</td>\n",
       "      <td>20/12/2018 18:00</td>\n",
       "    </tr>\n",
       "    <tr>\n",
       "      <td>2018984116318</td>\n",
       "      <td>24/12/2018</td>\n",
       "      <td>24/12/2018 11:50</td>\n",
       "    </tr>\n",
       "    <tr>\n",
       "      <td>2018984116418</td>\n",
       "      <td>31/12/2018</td>\n",
       "      <td>31/12/2018 07:10</td>\n",
       "    </tr>\n",
       "  </tbody>\n",
       "</table>\n",
       "<p>122635 rows × 2 columns</p>\n",
       "</div>"
      ],
      "text/plain": [
       "                      Date              Time\n",
       "Accident_Index                              \n",
       "2018010080971   01/01/2018  01/01/2018 01:30\n",
       "2018010080973   01/01/2018  01/01/2018 00:50\n",
       "2018010080974   01/01/2018  01/01/2018 00:45\n",
       "2018010080981   01/01/2018  01/01/2018 03:00\n",
       "2018010080982   01/01/2018  01/01/2018 02:20\n",
       "...                    ...               ...\n",
       "2018984115718   23/12/2018  23/12/2018 13:45\n",
       "2018984115918   24/12/2018  24/12/2018 10:45\n",
       "2018984116018   20/12/2018  20/12/2018 18:00\n",
       "2018984116318   24/12/2018  24/12/2018 11:50\n",
       "2018984116418   31/12/2018  31/12/2018 07:10\n",
       "\n",
       "[122635 rows x 2 columns]"
      ]
     },
     "execution_count": 9,
     "metadata": {},
     "output_type": "execute_result"
    }
   ],
   "source": [
    "#Reassign Time to store date and time together\n",
    "df['Time']= df['Date'] + ' ' + df['Time']\n",
    "df"
   ]
  },
  {
   "cell_type": "code",
   "execution_count": 10,
   "metadata": {},
   "outputs": [],
   "source": [
    "#Set the type of 'Time' to datetime\n",
    "df['Time'] = pd.to_datetime(df.Time)"
   ]
  },
  {
   "cell_type": "code",
   "execution_count": 12,
   "metadata": {},
   "outputs": [
    {
     "data": {
      "text/plain": [
       "Accident_Index\n",
       "2018010080971   2018-01-01 01:30:00\n",
       "2018010080973   2018-01-01 00:50:00\n",
       "2018010080974   2018-01-01 00:45:00\n",
       "2018010080981   2018-01-01 03:00:00\n",
       "2018010080982   2018-01-01 02:20:00\n",
       "                        ...        \n",
       "2018984115718   2018-12-23 13:45:00\n",
       "2018984115918   2018-12-24 10:45:00\n",
       "2018984116018   2018-12-20 18:00:00\n",
       "2018984116318   2018-12-24 11:50:00\n",
       "2018984116418   2018-12-31 07:10:00\n",
       "Name: Time, Length: 122635, dtype: datetime64[ns]"
      ]
     },
     "execution_count": 12,
     "metadata": {},
     "output_type": "execute_result"
    }
   ],
   "source": [
    "#View the time column\n",
    "df['Time']"
   ]
  },
  {
   "cell_type": "code",
   "execution_count": 15,
   "metadata": {},
   "outputs": [
    {
     "data": {
      "text/plain": [
       "1.0     10304\n",
       "2.0      9027\n",
       "3.0      9448\n",
       "4.0      9751\n",
       "5.0     10850\n",
       "6.0     11099\n",
       "7.0     10494\n",
       "8.0      9748\n",
       "9.0     10754\n",
       "10.0    10696\n",
       "11.0    10770\n",
       "12.0     9681\n",
       "Name: Time, dtype: int64"
      ]
     },
     "execution_count": 15,
     "metadata": {},
     "output_type": "execute_result"
    }
   ],
   "source": [
    "#Assign ts to store the Months\n",
    "ts = df.Time.dt.month\n",
    "#Count the total number of  months\n",
    "count  = ts.value_counts().sort_index()\n",
    "count"
   ]
  },
  {
   "cell_type": "code",
   "execution_count": 16,
   "metadata": {},
   "outputs": [
    {
     "data": {
      "image/png": "[encoded data removed]",
      "text/plain": [
       "<Figure size 432x288 with 1 Axes>"
      ]
     },
     "metadata": {
      "needs_background": "light"
     },
     "output_type": "display_data"
    }
   ],
   "source": [
    "#Plot the count of the months as a line graph\n",
    "ax = count.plot(color = 'gold')\n",
    "ax.yaxis.set_major_formatter(\n",
    "mpl.ticker.EngFormatter(places=0))\n",
    "plt.title(\"2018 Months Accidents\") \n",
    "plt.xlabel('Month')\n",
    "plt.ylabel('Frequency (Accidents)')\n",
    "plt.savefig(\"Month-LineGraph.png\", dpi=300, bbox_inches='tight')\n",
    "plt.show()"
   ]
  },
  {
   "cell_type": "code",
   "execution_count": null,
   "metadata": {},
   "outputs": [],
   "source": []
  }
 ],
 "metadata": {
  "kernelspec": {
   "display_name": "Python 3.6",
   "language": "python",
   "name": "python36"
  },
  "language_info": {
   "codemirror_mode": {
    "name": "ipython",
    "version": 3
   },
   "file_extension": ".py",
   "mimetype": "text/x-python",
   "name": "python",
   "nbconvert_exporter": "python",
   "pygments_lexer": "ipython3",
   "version": "3.6.3"
  }
 },
 "nbformat": 4,
 "nbformat_minor": 2
}

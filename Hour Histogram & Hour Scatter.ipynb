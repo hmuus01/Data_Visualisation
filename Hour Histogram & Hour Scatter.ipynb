{
 "cells": [
  {
   "cell_type": "code",
   "execution_count": 15,
   "metadata": {},
   "outputs": [],
   "source": [
    " # IMPORT STATEMENTS\n",
    "import pandas as pd\n",
    "import matplotlib.pyplot as plt\n",
    "import numpy as np\n",
    "from pandas import DataFrame\n",
    "import seaborn as sns\n",
    "import matplotlib as mpl"
   ]
  },
  {
   "cell_type": "code",
   "execution_count": 16,
   "metadata": {},
   "outputs": [
    {
     "data": {
      "text/html": [
       "<div>\n",
       "<style scoped>\n",
       "    .dataframe tbody tr th:only-of-type {\n",
       "        vertical-align: middle;\n",
       "    }\n",
       "\n",
       "    .dataframe tbody tr th {\n",
       "        vertical-align: top;\n",
       "    }\n",
       "\n",
       "    .dataframe thead th {\n",
       "        text-align: right;\n",
       "    }\n",
       "</style>\n",
       "<table border=\"1\" class=\"dataframe\">\n",
       "  <thead>\n",
       "    <tr style=\"text-align: right;\">\n",
       "      <th></th>\n",
       "      <th>Number_of_Vehicles</th>\n",
       "      <th>Date</th>\n",
       "      <th>Time</th>\n",
       "    </tr>\n",
       "    <tr>\n",
       "      <th>Accident_Index</th>\n",
       "      <th></th>\n",
       "      <th></th>\n",
       "      <th></th>\n",
       "    </tr>\n",
       "  </thead>\n",
       "  <tbody>\n",
       "    <tr>\n",
       "      <td>2018010080971</td>\n",
       "      <td>2</td>\n",
       "      <td>01/01/2018</td>\n",
       "      <td>01:30</td>\n",
       "    </tr>\n",
       "    <tr>\n",
       "      <td>2018010080973</td>\n",
       "      <td>1</td>\n",
       "      <td>01/01/2018</td>\n",
       "      <td>00:50</td>\n",
       "    </tr>\n",
       "    <tr>\n",
       "      <td>2018010080974</td>\n",
       "      <td>2</td>\n",
       "      <td>01/01/2018</td>\n",
       "      <td>00:45</td>\n",
       "    </tr>\n",
       "    <tr>\n",
       "      <td>2018010080981</td>\n",
       "      <td>2</td>\n",
       "      <td>01/01/2018</td>\n",
       "      <td>03:00</td>\n",
       "    </tr>\n",
       "    <tr>\n",
       "      <td>2018010080982</td>\n",
       "      <td>2</td>\n",
       "      <td>01/01/2018</td>\n",
       "      <td>02:20</td>\n",
       "    </tr>\n",
       "    <tr>\n",
       "      <td>...</td>\n",
       "      <td>...</td>\n",
       "      <td>...</td>\n",
       "      <td>...</td>\n",
       "    </tr>\n",
       "    <tr>\n",
       "      <td>2018984115718</td>\n",
       "      <td>2</td>\n",
       "      <td>23/12/2018</td>\n",
       "      <td>13:45</td>\n",
       "    </tr>\n",
       "    <tr>\n",
       "      <td>2018984115918</td>\n",
       "      <td>2</td>\n",
       "      <td>24/12/2018</td>\n",
       "      <td>10:45</td>\n",
       "    </tr>\n",
       "    <tr>\n",
       "      <td>2018984116018</td>\n",
       "      <td>3</td>\n",
       "      <td>20/12/2018</td>\n",
       "      <td>18:00</td>\n",
       "    </tr>\n",
       "    <tr>\n",
       "      <td>2018984116318</td>\n",
       "      <td>1</td>\n",
       "      <td>24/12/2018</td>\n",
       "      <td>11:50</td>\n",
       "    </tr>\n",
       "    <tr>\n",
       "      <td>2018984116418</td>\n",
       "      <td>1</td>\n",
       "      <td>31/12/2018</td>\n",
       "      <td>07:10</td>\n",
       "    </tr>\n",
       "  </tbody>\n",
       "</table>\n",
       "<p>122635 rows × 3 columns</p>\n",
       "</div>"
      ],
      "text/plain": [
       "                Number_of_Vehicles        Date   Time\n",
       "Accident_Index                                       \n",
       "2018010080971                    2  01/01/2018  01:30\n",
       "2018010080973                    1  01/01/2018  00:50\n",
       "2018010080974                    2  01/01/2018  00:45\n",
       "2018010080981                    2  01/01/2018  03:00\n",
       "2018010080982                    2  01/01/2018  02:20\n",
       "...                            ...         ...    ...\n",
       "2018984115718                    2  23/12/2018  13:45\n",
       "2018984115918                    2  24/12/2018  10:45\n",
       "2018984116018                    3  20/12/2018  18:00\n",
       "2018984116318                    1  24/12/2018  11:50\n",
       "2018984116418                    1  31/12/2018  07:10\n",
       "\n",
       "[122635 rows x 3 columns]"
      ]
     },
     "execution_count": 16,
     "metadata": {},
     "output_type": "execute_result"
    }
   ],
   "source": [
    "#LOAD THE CSV FILE & USE THE COLOUMN'S 0, 7 and 11 \n",
    "df = pd.read_csv('../data/dftRoadSafetyData_Accidents_2018.csv',usecols=[0,7,9,11],index_col=0,low_memory=False)\n",
    "df"
   ]
  },
  {
   "cell_type": "code",
   "execution_count": 17,
   "metadata": {},
   "outputs": [
    {
     "data": {
      "text/html": [
       "<div>\n",
       "<style scoped>\n",
       "    .dataframe tbody tr th:only-of-type {\n",
       "        vertical-align: middle;\n",
       "    }\n",
       "\n",
       "    .dataframe tbody tr th {\n",
       "        vertical-align: top;\n",
       "    }\n",
       "\n",
       "    .dataframe thead th {\n",
       "        text-align: right;\n",
       "    }\n",
       "</style>\n",
       "<table border=\"1\" class=\"dataframe\">\n",
       "  <thead>\n",
       "    <tr style=\"text-align: right;\">\n",
       "      <th></th>\n",
       "      <th>Number_of_Vehicles</th>\n",
       "      <th>Date</th>\n",
       "      <th>Time</th>\n",
       "    </tr>\n",
       "    <tr>\n",
       "      <th>Accident_Index</th>\n",
       "      <th></th>\n",
       "      <th></th>\n",
       "      <th></th>\n",
       "    </tr>\n",
       "  </thead>\n",
       "  <tbody>\n",
       "    <tr>\n",
       "      <td>2018010080971</td>\n",
       "      <td>2</td>\n",
       "      <td>01/01/2018</td>\n",
       "      <td>2018-01-01 01:30:00</td>\n",
       "    </tr>\n",
       "    <tr>\n",
       "      <td>2018010080973</td>\n",
       "      <td>1</td>\n",
       "      <td>01/01/2018</td>\n",
       "      <td>2018-01-01 00:50:00</td>\n",
       "    </tr>\n",
       "    <tr>\n",
       "      <td>2018010080974</td>\n",
       "      <td>2</td>\n",
       "      <td>01/01/2018</td>\n",
       "      <td>2018-01-01 00:45:00</td>\n",
       "    </tr>\n",
       "    <tr>\n",
       "      <td>2018010080981</td>\n",
       "      <td>2</td>\n",
       "      <td>01/01/2018</td>\n",
       "      <td>2018-01-01 03:00:00</td>\n",
       "    </tr>\n",
       "    <tr>\n",
       "      <td>2018010080982</td>\n",
       "      <td>2</td>\n",
       "      <td>01/01/2018</td>\n",
       "      <td>2018-01-01 02:20:00</td>\n",
       "    </tr>\n",
       "    <tr>\n",
       "      <td>...</td>\n",
       "      <td>...</td>\n",
       "      <td>...</td>\n",
       "      <td>...</td>\n",
       "    </tr>\n",
       "    <tr>\n",
       "      <td>2018984115718</td>\n",
       "      <td>2</td>\n",
       "      <td>23/12/2018</td>\n",
       "      <td>2018-12-23 13:45:00</td>\n",
       "    </tr>\n",
       "    <tr>\n",
       "      <td>2018984115918</td>\n",
       "      <td>2</td>\n",
       "      <td>24/12/2018</td>\n",
       "      <td>2018-12-24 10:45:00</td>\n",
       "    </tr>\n",
       "    <tr>\n",
       "      <td>2018984116018</td>\n",
       "      <td>3</td>\n",
       "      <td>20/12/2018</td>\n",
       "      <td>2018-12-20 18:00:00</td>\n",
       "    </tr>\n",
       "    <tr>\n",
       "      <td>2018984116318</td>\n",
       "      <td>1</td>\n",
       "      <td>24/12/2018</td>\n",
       "      <td>2018-12-24 11:50:00</td>\n",
       "    </tr>\n",
       "    <tr>\n",
       "      <td>2018984116418</td>\n",
       "      <td>1</td>\n",
       "      <td>31/12/2018</td>\n",
       "      <td>2018-12-31 07:10:00</td>\n",
       "    </tr>\n",
       "  </tbody>\n",
       "</table>\n",
       "<p>122635 rows × 3 columns</p>\n",
       "</div>"
      ],
      "text/plain": [
       "                Number_of_Vehicles        Date                Time\n",
       "Accident_Index                                                    \n",
       "2018010080971                    2  01/01/2018 2018-01-01 01:30:00\n",
       "2018010080973                    1  01/01/2018 2018-01-01 00:50:00\n",
       "2018010080974                    2  01/01/2018 2018-01-01 00:45:00\n",
       "2018010080981                    2  01/01/2018 2018-01-01 03:00:00\n",
       "2018010080982                    2  01/01/2018 2018-01-01 02:20:00\n",
       "...                            ...         ...                 ...\n",
       "2018984115718                    2  23/12/2018 2018-12-23 13:45:00\n",
       "2018984115918                    2  24/12/2018 2018-12-24 10:45:00\n",
       "2018984116018                    3  20/12/2018 2018-12-20 18:00:00\n",
       "2018984116318                    1  24/12/2018 2018-12-24 11:50:00\n",
       "2018984116418                    1  31/12/2018 2018-12-31 07:10:00\n",
       "\n",
       "[122635 rows x 3 columns]"
      ]
     },
     "execution_count": 17,
     "metadata": {},
     "output_type": "execute_result"
    }
   ],
   "source": [
    "#Reassign Time to store date and time together\n",
    "df['Time']= df['Date'] + ' ' + df['Time']\n",
    "#Set the type of 'Time' to datetime\n",
    "df['Time'] = pd.to_datetime(df.Time)\n",
    "df"
   ]
  },
  {
   "cell_type": "code",
   "execution_count": 19,
   "metadata": {},
   "outputs": [
    {
     "data": {
      "text/plain": [
       "0.0      1837\n",
       "1.0      1267\n",
       "2.0      1053\n",
       "3.0       835\n",
       "4.0       798\n",
       "5.0      1198\n",
       "6.0      2481\n",
       "7.0      5638\n",
       "8.0      8538\n",
       "9.0      5875\n",
       "10.0     5489\n",
       "11.0     6110\n",
       "12.0     7116\n",
       "13.0     7138\n",
       "14.0     7554\n",
       "15.0     9500\n",
       "16.0     9905\n",
       "17.0    10615\n",
       "18.0     8891\n",
       "19.0     6479\n",
       "20.0     4697\n",
       "21.0     3676\n",
       "22.0     3266\n",
       "23.0     2666\n",
       "Name: Time, dtype: int64"
      ]
     },
     "execution_count": 19,
     "metadata": {},
     "output_type": "execute_result"
    }
   ],
   "source": [
    "#Count the total number of hours\n",
    "counts = df['Time'].dt.hour.value_counts().sort_index()\n",
    "counts"
   ]
  },
  {
   "cell_type": "code",
   "execution_count": 21,
   "metadata": {},
   "outputs": [
    {
     "data": {
      "image/png": "[encoded data removed]",
      "text/plain": [
       "<Figure size 432x288 with 1 Axes>"
      ]
     },
     "metadata": {
      "needs_background": "light"
     },
     "output_type": "display_data"
    }
   ],
   "source": [
    "#plot a histogram of the hours\n",
    "ax = df['Time'].dt.hour.plot.hist(bins=24)\n",
    "ax.set_title(\"Distribution of Hours\")\n",
    "ax.set_xlabel('Hour')\n",
    "ax.yaxis.set_major_formatter(\n",
    "mpl.ticker.EngFormatter(places=0))\n",
    "plt.savefig(\"Hours-Histogram.png\", dpi=300, bbox_inches='tight')\n",
    "plt.show()"
   ]
  },
  {
   "cell_type": "code",
   "execution_count": 24,
   "metadata": {},
   "outputs": [
    {
     "data": {
      "text/plain": [
       "count                  122622\n",
       "unique                  86932\n",
       "top       2018-09-11 18:00:00\n",
       "freq                       12\n",
       "first     2018-01-01 00:10:00\n",
       "last      2018-12-31 23:59:00\n",
       "Name: Time, dtype: object"
      ]
     },
     "execution_count": 24,
     "metadata": {},
     "output_type": "execute_result"
    }
   ],
   "source": [
    "#get the describe of the Time column\n",
    "df['Time'].describe()"
   ]
  },
  {
   "cell_type": "code",
   "execution_count": 25,
   "metadata": {},
   "outputs": [],
   "source": [
    "#Reassign time to be just the hours in order to do a scatter plot\n",
    "df['Time']= df['Time'].dt.hour"
   ]
  },
  {
   "cell_type": "code",
   "execution_count": 27,
   "metadata": {},
   "outputs": [
    {
     "data": {
      "image/png": "[encoded data removed]",
      "text/plain": [
       "<Figure size 432x288 with 1 Axes>"
      ]
     },
     "metadata": {
      "needs_background": "light"
     },
     "output_type": "display_data"
    }
   ],
   "source": [
    "#plot a scatter plot of the Hour and Number of vehicles to see a correlation. \n",
    "ax1 = df.plot.scatter(x='Time',y='Number_of_Vehicles', s=1)\n",
    "plt.show()"
   ]
  },
  {
   "cell_type": "code",
   "execution_count": null,
   "metadata": {},
   "outputs": [],
   "source": []
  }
 ],
 "metadata": {
  "kernelspec": {
   "display_name": "Python 3.6",
   "language": "python",
   "name": "python36"
  },
  "language_info": {
   "codemirror_mode": {
    "name": "ipython",
    "version": 3
   },
   "file_extension": ".py",
   "mimetype": "text/x-python",
   "name": "python",
   "nbconvert_exporter": "python",
   "pygments_lexer": "ipython3",
   "version": "3.6.3"
  }
 },
 "nbformat": 4,
 "nbformat_minor": 2
}
